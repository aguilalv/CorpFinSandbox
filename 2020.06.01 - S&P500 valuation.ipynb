{
 "cells": [
  {
   "cell_type": "code",
   "execution_count": 82,
   "metadata": {},
   "outputs": [],
   "source": [
    "### TO-DOs ###\n",
    "\n",
    "# Code a Monte Carlo simulation where each of the inputs is a distribution and the intrinsic index level is one too\n",
    "# Plot the historical and projected trajectory with confidence intervals for each input\n",
    "# Substitute each of hard-coded inputs for adequate cualculations\n",
    "# Prepare this to be repeated at any point during the year and not just at year end (ttm calculations, etc.)"
   ]
  },
  {
   "cell_type": "code",
   "execution_count": null,
   "metadata": {},
   "outputs": [],
   "source": []
  },
  {
   "cell_type": "code",
   "execution_count": 83,
   "metadata": {},
   "outputs": [],
   "source": [
    "import requests\n",
    "from urllib.parse import urlparse, urlunparse\n",
    "\n",
    "import numpy as np\n",
    "import numpy_financial as npf\n",
    "\n",
    "import pandas as pd\n",
    "\n",
    "import seaborn as sns\n",
    "import matplotlib.pyplot as plt\n",
    "\n",
    "import yfinance as yf\n",
    "\n",
    "from datetime import date\n",
    "\n",
    "\n",
    "#financialmodellingprep.com API key\n",
    "apikey = '6d5a44e82d49d8446e8db1914d12e2b4'\n",
    "simfinkey = 'S54dNEScw70KAegQwNs46skHPfblWSoB'"
   ]
  },
  {
   "cell_type": "code",
   "execution_count": 115,
   "metadata": {},
   "outputs": [],
   "source": [
    "valuation_date = date.fromisoformat('2020-06-01')\n",
    "years_to_project = 5\n",
    "\n",
    "monte_carlo_iterations = 1000\n",
    "\n",
    "projected_years = [y for y in range(valuation_date.year,valuation_date.year+years_to_project)]\n",
    "# Instead of years the dates should be 12 months from valuation date, and then 12 months later, etc."
   ]
  },
  {
   "cell_type": "markdown",
   "metadata": {},
   "source": [
    "## S&P500 Valuation\n",
    "21 February 2021"
   ]
  },
  {
   "cell_type": "markdown",
   "metadata": {
    "cell_style": "split"
   },
   "source": [
    "#### Framework and key questions to answer\n",
    "<img src=\"img/IndexValueFramework.jpg\" width=360 align=\"left\"/>"
   ]
  },
  {
   "cell_type": "markdown",
   "metadata": {
    "cell_style": "split"
   },
   "source": [
    "#### Story\n",
    "\n",
    "---\n",
    "\n",
    "**1. Earnings Growth**\n",
    "\n",
    "**2. Cash Return**\n",
    "\n",
    "**3. Risk Premium**\n",
    "\n",
    "**4. Risk Free Rate**"
   ]
  },
  {
   "cell_type": "code",
   "execution_count": 85,
   "metadata": {},
   "outputs": [],
   "source": [
    "hist_df = pd.read_excel('data/histimplERP.xls',sheet_name='Historical Impl Premiums',header=6,skipfooter=7)\n",
    "hist_df.drop(hist_df.tail(1).index,inplace=True) #Temporary fix because using data file from 2021 and replicating valuation as if it was 2020"
   ]
  },
  {
   "cell_type": "code",
   "execution_count": 86,
   "metadata": {},
   "outputs": [],
   "source": [
    "inputs_df = pd.DataFrame()\n",
    "inputs_df['year'] = hist_df['Year']\n",
    "inputs_df['ERP'] = hist_df['Implied Premium (FCFE)']\n",
    "inputs_df['earnings'] = hist_df['Earnings*']\n",
    "inputs_df['RFR'] = hist_df['T.Bond Rate']\n",
    "inputs_df['div&bb'] = hist_df['Dividends + Buybacks']\n",
    "\n",
    "# Keep adding historical values for all the other elements of the valuation"
   ]
  },
  {
   "cell_type": "markdown",
   "metadata": {},
   "source": [
    "### Present the historical and projected for each input with the rational for projection"
   ]
  },
  {
   "cell_type": "code",
   "execution_count": null,
   "metadata": {},
   "outputs": [],
   "source": []
  },
  {
   "cell_type": "code",
   "execution_count": 87,
   "metadata": {},
   "outputs": [],
   "source": [
    "#cash_returned = np.array([0,90.71,121.01,137.93,156.66,177.37])"
   ]
  },
  {
   "cell_type": "code",
   "execution_count": null,
   "metadata": {},
   "outputs": [],
   "source": []
  },
  {
   "cell_type": "code",
   "execution_count": null,
   "metadata": {},
   "outputs": [],
   "source": []
  },
  {
   "cell_type": "markdown",
   "metadata": {},
   "source": [
    "### Calculations"
   ]
  },
  {
   "cell_type": "code",
   "execution_count": 128,
   "metadata": {},
   "outputs": [],
   "source": [
    "outputs_df = pd.DataFrame()\n",
    "\n",
    "# Generate all the rndom variables at once to then use inside the iteration\n",
    "ERP_random = np.random.uniform(5.02/100,6.14/100,monte_carlo_iterations)\n",
    "\n",
    "\n",
    "# What is below would be one iteration\n",
    "for i in range(0,monte_carlo_iterations):\n",
    "    # Estimates for all inputs - Need to intriduce randomness here -\n",
    "    future_earnings = np.array([120,150,160.83,172.45,184.91])\n",
    "    cash_returned = np.array([90.71,121.01,137.93,156.66,177.37])\n",
    "# equity_risk_premium = 5.58/100\n",
    "    equity_risk_premium = ERP_random[i]\n",
    "    risk_free_rate = 0.66/100\n",
    "\n",
    "    discount_rate = risk_free_rate + 1 * equity_risk_premium\n",
    "    long_term_growth = risk_free_rate\n",
    "\n",
    "    #Calculate intrinsic value of the index given estimates for input\n",
    "    cash_flows = np.concatenate((np.array([0]),cash_returned)) # Add a \"today\" cash flow of 0 to make first cash flow in year 1\n",
    "    cash_terminal = cash_returned[-1]*(1+long_term_growth)/(discount_rate - long_term_growth)\n",
    "    cash_flows[-1] += cash_terminal\n",
    "\n",
    "    intrinsic_index_level = npf.npv(discount_rate,cash_flows)\n",
    "    d = [{'S&P500': intrinsic_index_level}]\n",
    "    outputs_df = outputs_df.append(d,ignore_index=True,sort=False)\n",
    "\n",
    "    # Create rows for projection\n",
    "    d = {'year': projected_years, \n",
    "         'earnings': future_earnings,\n",
    "         'div&bb': cash_returned,\n",
    "         'RFR': [risk_free_rate]*years_to_project,\n",
    "         'ERP': [equity_risk_premium]*years_to_project,\n",
    "        }\n",
    "    temp_df = pd.DataFrame(d)\n",
    "    \n",
    "    # Append new projection to output_df\n",
    "    inputs_df = pd.concat([inputs_df,temp_df])"
   ]
  },
  {
   "cell_type": "markdown",
   "metadata": {},
   "source": [
    "### OUT"
   ]
  },
  {
   "cell_type": "code",
   "execution_count": 126,
   "metadata": {},
   "outputs": [
    {
     "data": {
      "text/plain": [
       "13590    0.0559572\n",
       "13591    0.0559572\n",
       "13592    0.0559572\n",
       "13593    0.0559572\n",
       "13594    0.0559572\n",
       "13595    0.0553479\n",
       "13596    0.0553479\n",
       "13597    0.0553479\n",
       "13598    0.0553479\n",
       "13599    0.0553479\n",
       "13600    0.0571506\n",
       "13601    0.0571506\n",
       "13602    0.0571506\n",
       "13603    0.0571506\n",
       "13604    0.0571506\n",
       "13605     0.053179\n",
       "13606     0.053179\n",
       "13607     0.053179\n",
       "13608     0.053179\n",
       "13609     0.053179\n",
       "Name: ERP, dtype: object"
      ]
     },
     "execution_count": 126,
     "metadata": {},
     "output_type": "execute_result"
    }
   ],
   "source": [
    "inputs_df.reset_index()['ERP'].tail(20)"
   ]
  }
 ],
 "metadata": {
  "hide_input": false,
  "kernelspec": {
   "display_name": "Python 3",
   "language": "python",
   "name": "python3"
  },
  "language_info": {
   "codemirror_mode": {
    "name": "ipython",
    "version": 3
   },
   "file_extension": ".py",
   "mimetype": "text/x-python",
   "name": "python",
   "nbconvert_exporter": "python",
   "pygments_lexer": "ipython3",
   "version": "3.7.3"
  }
 },
 "nbformat": 4,
 "nbformat_minor": 4
}
