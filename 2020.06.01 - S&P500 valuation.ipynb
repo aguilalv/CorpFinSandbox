{
 "cells": [
  {
   "cell_type": "code",
   "execution_count": 1,
   "metadata": {},
   "outputs": [],
   "source": [
    "### TO-DOs ###\n",
    "\n",
    "# Check that if I go back to original Damodaran estimates I still get the correct result\n",
    "# Code a Monte Carlo simulation where each of the inputs is a distribution\n",
    "# Plot the historical and projected trajectory with confidence intervals for each input\n",
    "# Substitute each of hard-coded inputs for adequate cualculations\n",
    "# Prepare this to be repeated at any point during the year and not just at year end (ttm calculations, etc.)"
   ]
  },
  {
   "cell_type": "code",
   "execution_count": null,
   "metadata": {},
   "outputs": [],
   "source": []
  },
  {
   "cell_type": "code",
   "execution_count": 66,
   "metadata": {},
   "outputs": [],
   "source": [
    "import requests\n",
    "from urllib.parse import urlparse, urlunparse\n",
    "\n",
    "import numpy as np\n",
    "import numpy_financial as npf\n",
    "\n",
    "import pandas as pd\n",
    "\n",
    "import seaborn as sns\n",
    "import matplotlib.pyplot as plt\n",
    "\n",
    "import yfinance as yf\n",
    "\n",
    "from datetime import date\n",
    "\n",
    "from itertools import accumulate\n",
    "import operator\n",
    "\n",
    "\n",
    "#financialmodellingprep.com API key\n",
    "apikey = '6d5a44e82d49d8446e8db1914d12e2b4'\n",
    "simfinkey = 'S54dNEScw70KAegQwNs46skHPfblWSoB'"
   ]
  },
  {
   "cell_type": "code",
   "execution_count": 67,
   "metadata": {},
   "outputs": [],
   "source": [
    "valuation_date = date.fromisoformat('2020-06-01')\n",
    "years_to_project = 5\n",
    "\n",
    "monte_carlo_iterations = 1000\n",
    "\n",
    "projected_years = [y for y in range(valuation_date.year,valuation_date.year+years_to_project)]\n",
    "# Instead of years the dates should be 12 months from valuation date, and then 12 months later, etc."
   ]
  },
  {
   "cell_type": "markdown",
   "metadata": {},
   "source": [
    "## S&P500 Valuation\n",
    "21 February 2021"
   ]
  },
  {
   "cell_type": "markdown",
   "metadata": {
    "cell_style": "split"
   },
   "source": [
    "#### Framework and key questions to answer\n",
    "<img src=\"img/IndexValueFramework.jpg\" width=360 align=\"left\"/>"
   ]
  },
  {
   "cell_type": "markdown",
   "metadata": {
    "cell_style": "split"
   },
   "source": [
    "#### Story\n",
    "\n",
    "---\n",
    "\n",
    "**1. Earnings Growth**\n",
    "\n",
    "**2. Cash Return**\n",
    "\n",
    "**3. Risk Premium**\n",
    "\n",
    "**4. Risk Free Rate**"
   ]
  },
  {
   "cell_type": "code",
   "execution_count": 68,
   "metadata": {},
   "outputs": [],
   "source": [
    "hist_df = pd.read_excel('data/histimplERP.xls',sheet_name='Historical Impl Premiums',header=6,skipfooter=7)\n",
    "hist_df.drop(hist_df.tail(1).index,inplace=True) #Temporary fix because using data file from 2021 and replicating valuation as if it was 2020"
   ]
  },
  {
   "cell_type": "code",
   "execution_count": 69,
   "metadata": {},
   "outputs": [],
   "source": [
    "inputs_df = pd.DataFrame()\n",
    "inputs_df['year'] = hist_df['Year']\n",
    "inputs_df['ERP'] = hist_df['Implied Premium (FCFE)']\n",
    "inputs_df['earnings'] = hist_df['Earnings*']\n",
    "inputs_df['RFR'] = hist_df['T.Bond Rate']\n",
    "inputs_df['div&bb'] = hist_df['Dividends + Buybacks']\n",
    "\n",
    "# Keep adding historical values for all the other elements of the valuation"
   ]
  },
  {
   "cell_type": "markdown",
   "metadata": {},
   "source": [
    "### Present the historical and projected for each input with the rational for projection"
   ]
  },
  {
   "cell_type": "code",
   "execution_count": null,
   "metadata": {},
   "outputs": [],
   "source": []
  },
  {
   "cell_type": "code",
   "execution_count": 70,
   "metadata": {},
   "outputs": [],
   "source": [
    "hist_df['% earnings returned'] = hist_df['Dividends + Buybacks']/hist_df['Earnings*']"
   ]
  },
  {
   "cell_type": "code",
   "execution_count": 71,
   "metadata": {},
   "outputs": [
    {
     "data": {
      "text/plain": [
       "<AxesSubplot:xlabel='Change in Earnings', ylabel='Count'>"
      ]
     },
     "execution_count": 71,
     "metadata": {},
     "output_type": "execute_result"
    },
    {
     "data": {
      "image/png": "[encoded data removed]",
      "text/plain": [
       "<Figure size 432x288 with 1 Axes>"
      ]
     },
     "metadata": {
      "needs_background": "light"
     },
     "output_type": "display_data"
    }
   ],
   "source": [
    "hist_df['Change in Earnings'].describe()\n",
    "sns.histplot(data=hist_df, x=\"Change in Earnings\",bins=6)"
   ]
  },
  {
   "cell_type": "code",
   "execution_count": 72,
   "metadata": {},
   "outputs": [
    {
     "data": {
      "text/plain": [
       "count    19.000000\n",
       "mean      0.070416\n",
       "std       0.164165\n",
       "min      -0.307857\n",
       "25%      -0.017581\n",
       "50%       0.094445\n",
       "75%       0.172562\n",
       "max       0.402515\n",
       "Name: Change in Earnings, dtype: float64"
      ]
     },
     "execution_count": 72,
     "metadata": {},
     "output_type": "execute_result"
    }
   ],
   "source": [
    "hist_df[hist_df['Year']>2000]['Change in Earnings'].describe()"
   ]
  },
  {
   "cell_type": "markdown",
   "metadata": {},
   "source": [
    "### Calculations"
   ]
  },
  {
   "cell_type": "code",
   "execution_count": 90,
   "metadata": {},
   "outputs": [],
   "source": [
    "# Original Damodaran estimates\n",
    "#   future_earnings = np.array([120.0,150.0,160.83,172.45,184.91])\n",
    "#      earnings_first_year = 120.0\n",
    "#      earnings_growth = np.array([0.25,0.0722,0.0722,0.0722])\n",
    "\n",
    "#   cash_returned = np.array([90.71,121.01,137.93,156.66,177.37])\n",
    "#   cash_returned_percent = np.array([0.75591667, 0.80673333, 0.85761363, 0.90843723, 0.95922341])\n",
    "#      percent_returned_first = 0.7559  # INTRODUCE RANDOMNESS\n",
    "#      percent_returned_last = 0.9593   # INTRODUCE RANDOMNESS\n",
    "\n",
    "#   equity_risk_premium = 5.58/100\n",
    "#      ERP_random = np.repeat(5.58/100,monte_carlo_iterations)\n",
    "\n",
    "outputs_df = pd.DataFrame()\n",
    "\n",
    "# Generate all the rndom variables at once to then use inside the iteration\n",
    "earnings_first_year_random = norm.rvs(loc=120,scale=5,size=monte_carlo_iterations)\n",
    "earnings_growth_random = [norm.rvs(loc=7.04/100,scale=16/100,size=years_to_project-1) for year in range(0,monte_carlo_iterations)]    \n",
    "\n",
    "ERP_random = np.random.uniform(5.02/100,6.14/100,monte_carlo_iterations)\n",
    "#ERP_random = np.repeat(5.58/100,monte_carlo_iterations)\n",
    "\n",
    "percent_returned_first = 0.7559  # INTRODUCE RANDOMNESS\n",
    "percent_returned_last = 0.9593   # INTRODUCE RANDOMNESS\n",
    "\n",
    "\n",
    "# What is below would be one iteration\n",
    "for i in range(0,monte_carlo_iterations):\n",
    "\n",
    "    earnings_first_year = earnings_first_year_random[i]\n",
    "    earnings_growth = earnings_growth_random[i]\n",
    "    growth_factor = [1] + list(accumulate(earnings_growth+1, operator.mul))\n",
    "    future_earnings = np.repeat(earnings_first_year, years_to_project) * growth_factor\n",
    "\n",
    "    percent_returned = np.linspace (start=percent_returned_first,stop=percent_returned_last,num=years_to_project)\n",
    "    cash_returned = future_earnings * percent_returned \n",
    "    equity_risk_premium = ERP_random[i]\n",
    "    risk_free_rate = 0.66/100 \n",
    "\n",
    "    discount_rate = risk_free_rate + 1 * equity_risk_premium\n",
    "    long_term_growth = risk_free_rate\n",
    "\n",
    "    #Calculate intrinsic value of the index given estimates for input\n",
    "    cash_flows = np.concatenate((np.array([0]),cash_returned)) # Add a \"today\" cash flow of 0 to make first cash flow in year 1\n",
    "    cash_terminal = cash_returned[-1]*(1+long_term_growth)/(discount_rate - long_term_growth)\n",
    "    cash_flows[-1] += cash_terminal\n",
    "\n",
    "    intrinsic_index_level = npf.npv(discount_rate,cash_flows)\n",
    "    d = [{'S&P500': intrinsic_index_level}]\n",
    "    outputs_df = outputs_df.append(d,ignore_index=True,sort=False)\n",
    "\n",
    "    # Create rows for projection\n",
    "    d = {'year': projected_years, \n",
    "         'earnings': future_earnings,\n",
    "         'div&bb': cash_returned,\n",
    "         'RFR': [risk_free_rate]*years_to_project,\n",
    "         'ERP': [equity_risk_premium]*years_to_project,\n",
    "        }\n",
    "    temp_df = pd.DataFrame(d)\n",
    "    \n",
    "    # Append new projection to output_df\n",
    "    inputs_df = pd.concat([inputs_df,temp_df])"
   ]
  },
  {
   "cell_type": "markdown",
   "metadata": {},
   "source": [
    "### OUT"
   ]
  },
  {
   "cell_type": "code",
   "execution_count": 86,
   "metadata": {},
   "outputs": [
    {
     "data": {
      "text/plain": [
       "<AxesSubplot:xlabel='year', ylabel='earnings'>"
      ]
     },
     "execution_count": 86,
     "metadata": {},
     "output_type": "execute_result"
    },
    {
     "data": {
      "image/png": "[encoded data removed]",
      "text/plain": [
       "<Figure size 432x288 with 1 Axes>"
      ]
     },
     "metadata": {
      "needs_background": "light"
     },
     "output_type": "display_data"
    }
   ],
   "source": [
    "sns.lineplot(x=\"year\", y=\"earnings\",data=inputs_df,ci=\"sd\")"
   ]
  },
  {
   "cell_type": "code",
   "execution_count": 91,
   "metadata": {},
   "outputs": [
    {
     "data": {
      "text/plain": [
       "<AxesSubplot:ylabel='S&P500'>"
      ]
     },
     "execution_count": 91,
     "metadata": {},
     "output_type": "execute_result"
    },
    {
     "data": {
      "image/png": "[encoded data removed]",
      "text/plain": [
       "<Figure size 432x288 with 1 Axes>"
      ]
     },
     "metadata": {
      "needs_background": "light"
     },
     "output_type": "display_data"
    }
   ],
   "source": [
    "sns.boxplot(y=\"S&P500\",\n",
    "            data=outputs_df)"
   ]
  },
  {
   "cell_type": "code",
   "execution_count": 92,
   "metadata": {},
   "outputs": [
    {
     "data": {
      "text/plain": [
       "<AxesSubplot:xlabel='S&P500', ylabel='Count'>"
      ]
     },
     "execution_count": 92,
     "metadata": {},
     "output_type": "execute_result"
    },
    {
     "data": {
      "image/png": "[encoded data removed]",
      "text/plain": [
       "<Figure size 432x288 with 1 Axes>"
      ]
     },
     "metadata": {
      "needs_background": "light"
     },
     "output_type": "display_data"
    }
   ],
   "source": [
    "sns.histplot(data=outputs_df, x=\"S&P500\", bins=100)"
   ]
  },
  {
   "cell_type": "code",
   "execution_count": 34,
   "metadata": {},
   "outputs": [
    {
     "data": {
      "image/png": "[encoded data removed]",
      "text/plain": [
       "<Figure size 432x288 with 1 Axes>"
      ]
     },
     "metadata": {
      "needs_background": "light"
     },
     "output_type": "display_data"
    }
   ],
   "source": [
    "from scipy.stats import norm\n",
    "\n",
    "import matplotlib.pyplot as plt\n",
    "fig, ax = plt.subplots(1, 1)\n",
    "\n",
    "mean, var, skew, kurt = norm.stats(moments='mvsk')\n",
    "\n",
    "x = np.linspace(norm.ppf(0.01),norm.ppf(0.99), 100)\n",
    "ax.plot(x, norm.pdf(x),'r-', lw=5, alpha=0.6, label='norm pdf')\n",
    "\n",
    "rv = norm()\n",
    "ax.plot(x, rv.pdf(x), 'k-', lw=2, label='frozen pdf')\n",
    "\n",
    "vals = norm.ppf([0.001, 0.5, 0.999])\n",
    "np.allclose([0.001, 0.5, 0.999], norm.cdf(vals))\n",
    "\n",
    "r = norm.rvs(loc=1,scale=1,size=1000)\n",
    "\n",
    "ax.hist(r, density=True, histtype='stepfilled', alpha=0.2)\n",
    "ax.legend(loc='best', frameon=False)\n",
    "plt.show()"
   ]
  },
  {
   "cell_type": "code",
   "execution_count": 55,
   "metadata": {},
   "outputs": [],
   "source": [
    "#for year in range(0,years_to_project):\n",
    "#    r = norm.rvs(loc=1,scale=1,size=monte_carlo_iterations)\n",
    "\n",
    "    \n",
    "t = [norm.rvs(loc=1,scale=1,size=years_to_project) for year in range(0,monte_carlo_iterations)]    "
   ]
  },
  {
   "cell_type": "code",
   "execution_count": 60,
   "metadata": {},
   "outputs": [
    {
     "data": {
      "text/plain": [
       "array([ 1.97333188,  2.49999924,  1.39833037, -0.24420663,  2.02744035])"
      ]
     },
     "execution_count": 60,
     "metadata": {},
     "output_type": "execute_result"
    }
   ],
   "source": [
    "t[10]\n",
    "#earnings_growth"
   ]
  }
 ],
 "metadata": {
  "hide_input": false,
  "kernelspec": {
   "display_name": "Python 3",
   "language": "python",
   "name": "python3"
  },
  "language_info": {
   "codemirror_mode": {
    "name": "ipython",
    "version": 3
   },
   "file_extension": ".py",
   "mimetype": "text/x-python",
   "name": "python",
   "nbconvert_exporter": "python",
   "pygments_lexer": "ipython3",
   "version": "3.7.3"
  }
 },
 "nbformat": 4,
 "nbformat_minor": 4
}
