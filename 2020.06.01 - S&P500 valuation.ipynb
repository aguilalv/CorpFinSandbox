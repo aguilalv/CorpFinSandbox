{
 "cells": [
  {
   "cell_type": "code",
   "execution_count": 36,
   "metadata": {},
   "outputs": [],
   "source": [
    "### TO-DOs ###\n",
    "\n",
    "# Plot the historical and projected trajectory with confidence intervals for each input\n",
    "# Prepare this to be repeated at any point during the year and not just at year end (ttm calculations, etc.)"
   ]
  },
  {
   "cell_type": "code",
   "execution_count": null,
   "metadata": {},
   "outputs": [],
   "source": []
  },
  {
   "cell_type": "code",
   "execution_count": 69,
   "metadata": {},
   "outputs": [],
   "source": [
    "import requests\n",
    "from urllib.parse import urlparse, urlunparse\n",
    "\n",
    "import numpy as np\n",
    "import numpy_financial as npf\n",
    "\n",
    "import scipy as sp \n",
    "#from scipy.stats import norm\n",
    "\n",
    "import pandas as pd\n",
    "\n",
    "import seaborn as sns\n",
    "import matplotlib.pyplot as plt\n",
    "plt.style.use('fivethirtyeight')\n",
    "\n",
    "import yfinance as yf\n",
    "\n",
    "from datetime import date\n",
    "\n",
    "from itertools import accumulate\n",
    "import operator\n",
    "\n",
    "\n",
    "#financialmodellingprep.com API key\n",
    "apikey = '6d5a44e82d49d8446e8db1914d12e2b4'\n",
    "simfinkey = 'S54dNEScw70KAegQwNs46skHPfblWSoB'"
   ]
  },
  {
   "cell_type": "code",
   "execution_count": 14,
   "metadata": {},
   "outputs": [],
   "source": [
    "hist_df = pd.read_excel('data/histimplERP.xls',sheet_name='Historical Impl Premiums',header=6,skipfooter=7)\n",
    "hist_df.drop(hist_df.tail(1).index,inplace=True) #Temporary fix because using data file from 2021 and replicating valuation as if it was 2020"
   ]
  },
  {
   "cell_type": "code",
   "execution_count": 15,
   "metadata": {},
   "outputs": [],
   "source": [
    "valuation_date = date.fromisoformat('2020-06-01')\n",
    "years_to_project = 5\n",
    "\n",
    "monte_carlo_iterations = 5000\n",
    "\n",
    "projected_years = [y for y in range(valuation_date.year,valuation_date.year+years_to_project)]\n",
    "# Instead of years the dates should be 12 months from valuation date, and then 12 months later, etc."
   ]
  },
  {
   "cell_type": "markdown",
   "metadata": {},
   "source": [
    "## S&P500 Valuation\n",
    "21 February 2021"
   ]
  },
  {
   "cell_type": "markdown",
   "metadata": {
    "cell_style": "split"
   },
   "source": [
    "#### Framework and key questions to answer\n",
    "<img src=\"img/IndexValueFramework.jpg\" width=360 align=\"left\"/>"
   ]
  },
  {
   "cell_type": "markdown",
   "metadata": {
    "cell_style": "split"
   },
   "source": [
    "#### Story\n",
    "\n",
    "---\n",
    "\n",
    "**1. Earnings Growth**: \n",
    "- 2020 will be a very bad year for companies in the index that will see a reduction in earnings of c.30% (in the 2% of the worst in the last 50 years)\n",
    "- Earnings will recover in 2021 (c.25% growth) but wont reach 2019 levels until 2022\n",
    "- From 2022 onwards earnings will grow at the average rate of the last 20 years (c. 7% p.a.)\n",
    "\n",
    "**2. Cash Return**\n",
    "\n",
    "**3. Risk Premium**\n",
    "\n",
    "**4. Risk Free Rate**"
   ]
  },
  {
   "cell_type": "markdown",
   "metadata": {},
   "source": [
    "### Calculations"
   ]
  },
  {
   "cell_type": "code",
   "execution_count": 87,
   "metadata": {},
   "outputs": [],
   "source": [
    "inputs_df = pd.DataFrame()\n",
    "inputs_df['year'] = hist_df['Year']\n",
    "inputs_df['ERP'] = hist_df['Implied Premium (FCFE)']\n",
    "inputs_df['earnings'] = hist_df['Earnings*']\n",
    "inputs_df['RFR'] = hist_df['T.Bond Rate']\n",
    "inputs_df['div&bb'] = hist_df['Dividends + Buybacks']"
   ]
  },
  {
   "cell_type": "code",
   "execution_count": 88,
   "metadata": {},
   "outputs": [],
   "source": [
    "# Original Damodaran estimates\n",
    "#   future_earnings = np.array([120.0,150.0,160.83,172.45,184.91])\n",
    "#      earnings_first_year = 120.0\n",
    "#      earnings_growth = np.array([0.25,0.0722,0.0722,0.0722])\n",
    "\n",
    "#   cash_returned = np.array([90.71,121.01,137.93,156.66,177.37])\n",
    "#   cash_returned_percent = np.array([0.75591667, 0.80673333, 0.85761363, 0.90843723, 0.95922341])\n",
    "#      percent_returned_first = 0.7559  # INTRODUCE RANDOMNESS\n",
    "#      percent_returned_last = 0.9593   # INTRODUCE RANDOMNESS\n",
    "\n",
    "#   equity_risk_premium = 5.58/100\n",
    "#      ERP_random = np.repeat(5.58/100,monte_carlo_iterations)\n",
    "\n",
    "outputs_df = pd.DataFrame()\n",
    "\n",
    "# Generate all the rndom variables at once to then use inside the iteration\n",
    "earnings_first_year_random = sp.stats.norm.rvs(loc=120,scale=10,size=monte_carlo_iterations)\n",
    "earnings_growth_random = [sp.stats.norm.rvs(loc=7.04/100,scale=16/100,size=years_to_project-1) for year in range(0,monte_carlo_iterations)]    \n",
    "first_year_growth_override = sp.stats.norm.rvs(loc=0.25,scale=0.05,size=monte_carlo_iterations) # None means not to override\n",
    "\n",
    "ERP_random = np.random.uniform(5.02/100,6.14/100,monte_carlo_iterations)\n",
    "#ERP_random = np.repeat(5.58/100,monte_carlo_iterations)\n",
    "\n",
    "percent_returned_first_random = sp.stats.norm.rvs(loc=0.7559,scale=0.1,size=monte_carlo_iterations)\n",
    "percent_returned_last_random = sp.stats.norm.rvs(loc=0.9593,scale=0.1,size=monte_carlo_iterations)\n",
    "\n",
    "risk_free_rate_random = np.repeat(0.66/100,monte_carlo_iterations)\n",
    "\n",
    "# What is below would be one iteration\n",
    "for i in range(0,monte_carlo_iterations):\n",
    "\n",
    "    earnings_first_year = earnings_first_year_random[i]\n",
    "    earnings_growth = earnings_growth_random[i]\n",
    "    if first_year_growth_override is not None:\n",
    "        earnings_growth[0] = first_year_growth_override[i]\n",
    "    growth_factor = [1] + list(accumulate(earnings_growth+1, operator.mul))\n",
    "    future_earnings = np.repeat(earnings_first_year, years_to_project) * growth_factor\n",
    "\n",
    "    percent_returned_first = percent_returned_first_random[i]\n",
    "    percent_returned_last = percent_returned_last_random[i]\n",
    "    percent_returned = np.linspace (start=percent_returned_first,stop=percent_returned_last,num=years_to_project)\n",
    "    cash_returned = future_earnings * percent_returned \n",
    "\n",
    "    equity_risk_premium = ERP_random[i]\n",
    "    \n",
    "    risk_free_rate = risk_free_rate_random[i]\n",
    "\n",
    "    # Calculate the discount rate\n",
    "    discount_rate = risk_free_rate + 1 * equity_risk_premium\n",
    "    long_term_growth = risk_free_rate\n",
    "\n",
    "    #Calculate intrinsic value of the index given estimates for input\n",
    "    cash_flows = np.concatenate((np.array([0]),cash_returned)) # Add a \"today\" cash flow of 0 to make first cash flow in year 1\n",
    "    cash_terminal = cash_returned[-1]*(1+long_term_growth)/(discount_rate - long_term_growth)\n",
    "    cash_flows[-1] += cash_terminal\n",
    "\n",
    "    intrinsic_index_level = npf.npv(discount_rate,cash_flows)\n",
    "    d = [{'S&P500': intrinsic_index_level}]\n",
    "    outputs_df = outputs_df.append(d,ignore_index=True,sort=False)\n",
    "\n",
    "    # Create rows for projection\n",
    "    d = {'year': projected_years, \n",
    "         'earnings': future_earnings,\n",
    "         'div&bb': cash_returned,\n",
    "         'RFR': [risk_free_rate]*years_to_project,\n",
    "         'ERP': [equity_risk_premium]*years_to_project,\n",
    "        }\n",
    "    temp_df = pd.DataFrame(d)\n",
    "    \n",
    "    # Append new projection to output_df\n",
    "    inputs_df = pd.concat([inputs_df,temp_df])"
   ]
  },
  {
   "cell_type": "markdown",
   "metadata": {},
   "source": [
    "### Assumptions and story"
   ]
  },
  {
   "cell_type": "code",
   "execution_count": 89,
   "metadata": {},
   "outputs": [],
   "source": [
    "ref_period_years = 20\n",
    "initial_year = projected_years[0] - ref_period_years\n",
    "historical_mask = (inputs_df['year']<projected_years[0])&(inputs_df['year']>=initial_year)\n",
    "projected_mask = (inputs_df['year']>=projected_years[0])&(inputs_df['year']<=projected_years[-1])"
   ]
  },
  {
   "cell_type": "code",
   "execution_count": 90,
   "metadata": {},
   "outputs": [],
   "source": [
    "inputs_df['% earnings returned'] = inputs_df['div&bb']/inputs_df['earnings']"
   ]
  },
  {
   "cell_type": "code",
   "execution_count": 151,
   "metadata": {},
   "outputs": [],
   "source": [
    "column = 'RFR'\n",
    "column_yoy = column+' growth'\n"
   ]
  },
  {
   "cell_type": "code",
   "execution_count": 146,
   "metadata": {},
   "outputs": [],
   "source": [
    "inputs_df[column_yoy] = inputs_df[column].pct_change()"
   ]
  },
  {
   "cell_type": "code",
   "execution_count": 152,
   "metadata": {
    "cell_style": "center"
   },
   "outputs": [
    {
     "data": {
      "text/plain": [
       "Text(-10, 5, '0')"
      ]
     },
     "execution_count": 152,
     "metadata": {},
     "output_type": "execute_result"
    },
    {
     "data": {
      "image/png": "[encoded data removed]",
      "text/plain": [
       "<Figure size 432x288 with 1 Axes>"
      ]
     },
     "metadata": {},
     "output_type": "display_data"
    }
   ],
   "source": [
    "hist_mask_chart = (inputs_df['year']<=projected_years[0])&(inputs_df['year']>=initial_year)\n",
    "\n",
    "ax = sns.lineplot(x=\"year\", \n",
    "                  y=column,\n",
    "                  data=inputs_df[hist_mask_chart])\n",
    "ax = sns.lineplot(x=\"year\", \n",
    "                  y=column,\n",
    "                  data=inputs_df[projected_mask],\n",
    "                  ci=\"sd\")\n",
    "ax.set_title('S&P500 '+column)\n",
    "\n",
    "last_historic_value = inputs_df[inputs_df['year']==projected_years[0]-1][column].mean()\n",
    "first_projected_value = inputs_df[inputs_df['year']==projected_years[0]][column].mean()\n",
    "last_projected_value = inputs_df[inputs_df['year']==projected_years[-1]][column].mean()\n",
    "bottom_ci_value = inputs_df[inputs_df['year']==projected_years[-1]][column].mean()-inputs_df[inputs_df['year']==projected_years[-1]][column].std()\n",
    "top_ci_value = inputs_df[inputs_df['year']==projected_years[-1]][column].mean()+inputs_df[inputs_df['year']==projected_years[-1]][column].std()\n",
    "\n",
    "ax.annotate(text=f'{last_historic_value:.0f}',\n",
    "            xy = (projected_years[0]-1,last_historic_value),\n",
    "            xytext = (-10,5),textcoords='offset points')\n",
    "ax.annotate(text=f'{first_projected_value:.0f}',\n",
    "            xy = (projected_years[0],first_projected_value),\n",
    "            xytext = (-10,-10),textcoords='offset points')\n",
    "ax.annotate(text=f'{last_projected_value:.0f}',\n",
    "            xy = (projected_years[-1],last_projected_value),\n",
    "            xytext = (-10,5),textcoords='offset points')\n",
    "ax.annotate(text=f'{bottom_ci_value:.0f}',\n",
    "            xy = (projected_years[-1],bottom_ci_value),\n",
    "            xytext = (-10,-10),textcoords='offset points')\n",
    "ax.annotate(text=f'{top_ci_value:.0f}',\n",
    "            xy = (projected_years[-1],top_ci_value),\n",
    "            xytext = (-10,5),textcoords='offset points')"
   ]
  },
  {
   "cell_type": "code",
   "execution_count": 148,
   "metadata": {
    "cell_style": "center"
   },
   "outputs": [
    {
     "data": {
      "image/png": "[encoded data removed]",
      "text/plain": [
       "<Figure size 432x288 with 1 Axes>"
      ]
     },
     "metadata": {},
     "output_type": "display_data"
    }
   ],
   "source": [
    "ax = sns.histplot(data=inputs_df[historical_mask], x=column_yoy,stat=\"frequency\")\n",
    "#sns.histplot(data=inputs_df[projected_mask], x=column_yoy,stat=\"density\",hue='year',ax=ax)\n",
    "for count,year in enumerate(projected_years):\n",
    "    growth = inputs_df[inputs_df['year']==year][column_yoy].mean()\n",
    "    height = 15*(count+1)\n",
    "    ax.vlines(growth, 0, height, colors='k', linestyles='solid', label='XX')\n",
    "    ax.annotate(text=f'{year}',\n",
    "                xy=(growth,height),\n",
    "                xytext=(0,5),\n",
    "                textcoords='offset points',\n",
    "                arrowprops={'arrowstyle':'->'})"
   ]
  },
  {
   "cell_type": "code",
   "execution_count": null,
   "metadata": {},
   "outputs": [],
   "source": []
  },
  {
   "cell_type": "code",
   "execution_count": 10,
   "metadata": {},
   "outputs": [
    {
     "data": {
      "text/plain": [
       "1.694915254237288"
      ]
     },
     "execution_count": 10,
     "metadata": {},
     "output_type": "execute_result"
    }
   ],
   "source": [
    "growth = inputs_df[inputs_df['year']==projected_years[0]]['earnings growth'].mean()\n",
    "sp.stats.percentileofscore(inputs_df[historical_mask]['earnings growth'],growth)"
   ]
  },
  {
   "cell_type": "code",
   "execution_count": null,
   "metadata": {},
   "outputs": [],
   "source": []
  },
  {
   "cell_type": "code",
   "execution_count": 11,
   "metadata": {},
   "outputs": [
    {
     "data": {
      "text/html": [
       "<div>\n",
       "<style scoped>\n",
       "    .dataframe tbody tr th:only-of-type {\n",
       "        vertical-align: middle;\n",
       "    }\n",
       "\n",
       "    .dataframe tbody tr th {\n",
       "        vertical-align: top;\n",
       "    }\n",
       "\n",
       "    .dataframe thead th {\n",
       "        text-align: right;\n",
       "    }\n",
       "</style>\n",
       "<table border=\"1\" class=\"dataframe\">\n",
       "  <thead>\n",
       "    <tr style=\"text-align: right;\">\n",
       "      <th></th>\n",
       "      <th>year</th>\n",
       "      <th>ERP</th>\n",
       "      <th>earnings</th>\n",
       "      <th>RFR</th>\n",
       "      <th>div&amp;bb</th>\n",
       "      <th>earnings growth</th>\n",
       "    </tr>\n",
       "  </thead>\n",
       "  <tbody>\n",
       "    <tr>\n",
       "      <th>year</th>\n",
       "      <td>1.000000</td>\n",
       "      <td>0.000000e+00</td>\n",
       "      <td>0.547122</td>\n",
       "      <td>-2.671868e-01</td>\n",
       "      <td>6.760979e-01</td>\n",
       "      <td>3.261600e-01</td>\n",
       "    </tr>\n",
       "    <tr>\n",
       "      <th>ERP</th>\n",
       "      <td>0.000000</td>\n",
       "      <td>1.000000e+00</td>\n",
       "      <td>-0.003532</td>\n",
       "      <td>1.431632e-13</td>\n",
       "      <td>2.209835e-03</td>\n",
       "      <td>3.588683e-03</td>\n",
       "    </tr>\n",
       "    <tr>\n",
       "      <th>earnings</th>\n",
       "      <td>0.547122</td>\n",
       "      <td>-3.531509e-03</td>\n",
       "      <td>1.000000</td>\n",
       "      <td>-2.588231e-02</td>\n",
       "      <td>9.261959e-01</td>\n",
       "      <td>5.628688e-01</td>\n",
       "    </tr>\n",
       "    <tr>\n",
       "      <th>RFR</th>\n",
       "      <td>-0.267187</td>\n",
       "      <td>1.431632e-13</td>\n",
       "      <td>-0.025882</td>\n",
       "      <td>1.000000e+00</td>\n",
       "      <td>-2.141895e-14</td>\n",
       "      <td>2.301043e-16</td>\n",
       "    </tr>\n",
       "    <tr>\n",
       "      <th>div&amp;bb</th>\n",
       "      <td>0.676098</td>\n",
       "      <td>2.209835e-03</td>\n",
       "      <td>0.926196</td>\n",
       "      <td>-2.141895e-14</td>\n",
       "      <td>1.000000e+00</td>\n",
       "      <td>4.980731e-01</td>\n",
       "    </tr>\n",
       "    <tr>\n",
       "      <th>earnings growth</th>\n",
       "      <td>0.326160</td>\n",
       "      <td>3.588683e-03</td>\n",
       "      <td>0.562869</td>\n",
       "      <td>2.301043e-16</td>\n",
       "      <td>4.980731e-01</td>\n",
       "      <td>1.000000e+00</td>\n",
       "    </tr>\n",
       "  </tbody>\n",
       "</table>\n",
       "</div>"
      ],
      "text/plain": [
       "                     year           ERP  earnings           RFR        div&bb  \\\n",
       "year             1.000000  0.000000e+00  0.547122 -2.671868e-01  6.760979e-01   \n",
       "ERP              0.000000  1.000000e+00 -0.003532  1.431632e-13  2.209835e-03   \n",
       "earnings         0.547122 -3.531509e-03  1.000000 -2.588231e-02  9.261959e-01   \n",
       "RFR             -0.267187  1.431632e-13 -0.025882  1.000000e+00 -2.141895e-14   \n",
       "div&bb           0.676098  2.209835e-03  0.926196 -2.141895e-14  1.000000e+00   \n",
       "earnings growth  0.326160  3.588683e-03  0.562869  2.301043e-16  4.980731e-01   \n",
       "\n",
       "                 earnings growth  \n",
       "year                3.261600e-01  \n",
       "ERP                 3.588683e-03  \n",
       "earnings            5.628688e-01  \n",
       "RFR                 2.301043e-16  \n",
       "div&bb              4.980731e-01  \n",
       "earnings growth     1.000000e+00  "
      ]
     },
     "execution_count": 11,
     "metadata": {},
     "output_type": "execute_result"
    }
   ],
   "source": [
    "inputs_df[~historical_mask].corr()"
   ]
  },
  {
   "cell_type": "code",
   "execution_count": null,
   "metadata": {},
   "outputs": [],
   "source": []
  },
  {
   "cell_type": "code",
   "execution_count": null,
   "metadata": {},
   "outputs": [],
   "source": []
  },
  {
   "cell_type": "markdown",
   "metadata": {},
   "source": [
    "### Results"
   ]
  },
  {
   "cell_type": "code",
   "execution_count": null,
   "metadata": {},
   "outputs": [],
   "source": []
  },
  {
   "cell_type": "markdown",
   "metadata": {},
   "source": [
    "### OUT"
   ]
  },
  {
   "cell_type": "code",
   "execution_count": 55,
   "metadata": {},
   "outputs": [
    {
     "data": {
      "text/html": [
       "<div>\n",
       "<style scoped>\n",
       "    .dataframe tbody tr th:only-of-type {\n",
       "        vertical-align: middle;\n",
       "    }\n",
       "\n",
       "    .dataframe tbody tr th {\n",
       "        vertical-align: top;\n",
       "    }\n",
       "\n",
       "    .dataframe thead th {\n",
       "        text-align: right;\n",
       "    }\n",
       "</style>\n",
       "<table border=\"1\" class=\"dataframe\">\n",
       "  <thead>\n",
       "    <tr style=\"text-align: right;\">\n",
       "      <th></th>\n",
       "      <th>year</th>\n",
       "      <th>earnings</th>\n",
       "      <th>div&amp;bb</th>\n",
       "      <th>RFR</th>\n",
       "      <th>ERP</th>\n",
       "    </tr>\n",
       "  </thead>\n",
       "  <tbody>\n",
       "    <tr>\n",
       "      <th>count</th>\n",
       "      <td>1000.0</td>\n",
       "      <td>1000.000000</td>\n",
       "      <td>1000.000000</td>\n",
       "      <td>1.000000e+03</td>\n",
       "      <td>1000.000000</td>\n",
       "    </tr>\n",
       "    <tr>\n",
       "      <th>mean</th>\n",
       "      <td>2021.0</td>\n",
       "      <td>149.908555</td>\n",
       "      <td>121.247984</td>\n",
       "      <td>6.600000e-03</td>\n",
       "      <td>0.055704</td>\n",
       "    </tr>\n",
       "    <tr>\n",
       "      <th>std</th>\n",
       "      <td>0.0</td>\n",
       "      <td>6.224580</td>\n",
       "      <td>13.066997</td>\n",
       "      <td>1.735591e-18</td>\n",
       "      <td>0.003285</td>\n",
       "    </tr>\n",
       "    <tr>\n",
       "      <th>min</th>\n",
       "      <td>2021.0</td>\n",
       "      <td>129.877773</td>\n",
       "      <td>82.142502</td>\n",
       "      <td>6.600000e-03</td>\n",
       "      <td>0.050201</td>\n",
       "    </tr>\n",
       "    <tr>\n",
       "      <th>25%</th>\n",
       "      <td>2021.0</td>\n",
       "      <td>145.554064</td>\n",
       "      <td>112.639330</td>\n",
       "      <td>6.600000e-03</td>\n",
       "      <td>0.052725</td>\n",
       "    </tr>\n",
       "    <tr>\n",
       "      <th>50%</th>\n",
       "      <td>2021.0</td>\n",
       "      <td>149.802659</td>\n",
       "      <td>120.772510</td>\n",
       "      <td>6.600000e-03</td>\n",
       "      <td>0.055724</td>\n",
       "    </tr>\n",
       "    <tr>\n",
       "      <th>75%</th>\n",
       "      <td>2021.0</td>\n",
       "      <td>154.214893</td>\n",
       "      <td>129.724080</td>\n",
       "      <td>6.600000e-03</td>\n",
       "      <td>0.058571</td>\n",
       "    </tr>\n",
       "    <tr>\n",
       "      <th>max</th>\n",
       "      <td>2021.0</td>\n",
       "      <td>169.140317</td>\n",
       "      <td>166.209889</td>\n",
       "      <td>6.600000e-03</td>\n",
       "      <td>0.061378</td>\n",
       "    </tr>\n",
       "  </tbody>\n",
       "</table>\n",
       "</div>"
      ],
      "text/plain": [
       "         year     earnings       div&bb           RFR          ERP\n",
       "count  1000.0  1000.000000  1000.000000  1.000000e+03  1000.000000\n",
       "mean   2021.0   149.908555   121.247984  6.600000e-03     0.055704\n",
       "std       0.0     6.224580    13.066997  1.735591e-18     0.003285\n",
       "min    2021.0   129.877773    82.142502  6.600000e-03     0.050201\n",
       "25%    2021.0   145.554064   112.639330  6.600000e-03     0.052725\n",
       "50%    2021.0   149.802659   120.772510  6.600000e-03     0.055724\n",
       "75%    2021.0   154.214893   129.724080  6.600000e-03     0.058571\n",
       "max    2021.0   169.140317   166.209889  6.600000e-03     0.061378"
      ]
     },
     "execution_count": 55,
     "metadata": {},
     "output_type": "execute_result"
    }
   ],
   "source": [
    "inputs_df[(inputs_df['year']==2021)].describe()"
   ]
  },
  {
   "cell_type": "code",
   "execution_count": 69,
   "metadata": {},
   "outputs": [
    {
     "data": {
      "text/plain": [
       "<AxesSubplot:xlabel='year', ylabel='div&bb'>"
      ]
     },
     "execution_count": 69,
     "metadata": {},
     "output_type": "execute_result"
    },
    {
     "data": {
      "image/png": "[encoded data removed]",
      "text/plain": [
       "<Figure size 432x288 with 1 Axes>"
      ]
     },
     "metadata": {
      "needs_background": "light"
     },
     "output_type": "display_data"
    }
   ],
   "source": []
  },
  {
   "cell_type": "code",
   "execution_count": 70,
   "metadata": {},
   "outputs": [
    {
     "data": {
      "text/plain": [
       "<AxesSubplot:ylabel='S&P500'>"
      ]
     },
     "execution_count": 70,
     "metadata": {},
     "output_type": "execute_result"
    },
    {
     "data": {
      "image/png": "[encoded data removed]",
      "text/plain": [
       "<Figure size 432x288 with 1 Axes>"
      ]
     },
     "metadata": {
      "needs_background": "light"
     },
     "output_type": "display_data"
    }
   ],
   "source": [
    "sns.boxplot(y=\"S&P500\",\n",
    "            data=outputs_df)"
   ]
  },
  {
   "cell_type": "code",
   "execution_count": 148,
   "metadata": {},
   "outputs": [
    {
     "data": {
      "text/plain": [
       "<AxesSubplot:xlabel='S&P500', ylabel='Count'>"
      ]
     },
     "execution_count": 148,
     "metadata": {},
     "output_type": "execute_result"
    },
    {
     "data": {
      "image/png": "[encoded data removed]",
      "text/plain": [
       "<Figure size 432x288 with 1 Axes>"
      ]
     },
     "metadata": {
      "needs_background": "light"
     },
     "output_type": "display_data"
    }
   ],
   "source": [
    "sns.histplot(data=outputs_df, x=\"S&P500\", bins=100)"
   ]
  },
  {
   "cell_type": "code",
   "execution_count": 47,
   "metadata": {},
   "outputs": [
    {
     "data": {
      "text/plain": [
       "0.1    1999.545417\n",
       "0.2    2244.394199\n",
       "0.3    2443.494140\n",
       "0.4    2645.003773\n",
       "0.5    2821.716431\n",
       "0.6    3014.906782\n",
       "0.7    3255.562276\n",
       "0.8    3539.090190\n",
       "0.9    3972.912596\n",
       "Name: S&P500, dtype: float64"
      ]
     },
     "execution_count": 47,
     "metadata": {},
     "output_type": "execute_result"
    }
   ],
   "source": [
    "outputs_df['S&P500'].quantile(np.linspace(.1, 1, 9, 0))"
   ]
  },
  {
   "cell_type": "code",
   "execution_count": 34,
   "metadata": {},
   "outputs": [
    {
     "data": {
      "image/png": "[encoded data removed]",
      "text/plain": [
       "<Figure size 432x288 with 1 Axes>"
      ]
     },
     "metadata": {
      "needs_background": "light"
     },
     "output_type": "display_data"
    }
   ],
   "source": [
    "from scipy.stats import norm\n",
    "\n",
    "import matplotlib.pyplot as plt\n",
    "fig, ax = plt.subplots(1, 1)\n",
    "\n",
    "mean, var, skew, kurt = norm.stats(moments='mvsk')\n",
    "\n",
    "x = np.linspace(norm.ppf(0.01),norm.ppf(0.99), 100)\n",
    "ax.plot(x, norm.pdf(x),'r-', lw=5, alpha=0.6, label='norm pdf')\n",
    "\n",
    "rv = norm()\n",
    "ax.plot(x, rv.pdf(x), 'k-', lw=2, label='frozen pdf')\n",
    "\n",
    "vals = norm.ppf([0.001, 0.5, 0.999])\n",
    "np.allclose([0.001, 0.5, 0.999], norm.cdf(vals))\n",
    "\n",
    "r = norm.rvs(loc=1,scale=1,size=1000)\n",
    "\n",
    "ax.hist(r, density=True, histtype='stepfilled', alpha=0.2)\n",
    "ax.legend(loc='best', frameon=False)\n",
    "plt.show()"
   ]
  },
  {
   "cell_type": "code",
   "execution_count": 55,
   "metadata": {},
   "outputs": [],
   "source": [
    "#for year in range(0,years_to_project):\n",
    "#    r = norm.rvs(loc=1,scale=1,size=monte_carlo_iterations)\n",
    "\n",
    "    \n",
    "t = [norm.rvs(loc=1,scale=1,size=years_to_project) for year in range(0,monte_carlo_iterations)]    "
   ]
  },
  {
   "cell_type": "code",
   "execution_count": 60,
   "metadata": {},
   "outputs": [
    {
     "data": {
      "text/plain": [
       "array([ 1.97333188,  2.49999924,  1.39833037, -0.24420663,  2.02744035])"
      ]
     },
     "execution_count": 60,
     "metadata": {},
     "output_type": "execute_result"
    }
   ],
   "source": [
    "t[10]\n",
    "#earnings_growth"
   ]
  },
  {
   "cell_type": "code",
   "execution_count": 13,
   "metadata": {},
   "outputs": [
    {
     "data": {
      "text/plain": [
       "1.1323459615773566"
      ]
     },
     "execution_count": 13,
     "metadata": {},
     "output_type": "execute_result"
    }
   ],
   "source": [
    "sp.stats.norm.rvs()"
   ]
  }
 ],
 "metadata": {
  "hide_input": false,
  "kernelspec": {
   "display_name": "Python 3",
   "language": "python",
   "name": "python3"
  },
  "language_info": {
   "codemirror_mode": {
    "name": "ipython",
    "version": 3
   },
   "file_extension": ".py",
   "mimetype": "text/x-python",
   "name": "python",
   "nbconvert_exporter": "python",
   "pygments_lexer": "ipython3",
   "version": "3.7.3"
  }
 },
 "nbformat": 4,
 "nbformat_minor": 4
}
