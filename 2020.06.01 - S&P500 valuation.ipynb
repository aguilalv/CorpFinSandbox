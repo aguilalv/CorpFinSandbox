{
 "cells": [
  {
   "cell_type": "code",
   "execution_count": 80,
   "metadata": {},
   "outputs": [],
   "source": [
    "### TO-DOs ###\n",
    "\n",
    "# Check that if I go back to original Damodaran estimates I still get the correct result\n",
    "# Code a Monte Carlo simulation where each of the inputs is a distribution\n",
    "# Plot the historical and projected trajectory with confidence intervals for each input\n",
    "# Substitute each of hard-coded inputs for adequate cualculations\n",
    "# Prepare this to be repeated at any point during the year and not just at year end (ttm calculations, etc.)"
   ]
  },
  {
   "cell_type": "code",
   "execution_count": null,
   "metadata": {},
   "outputs": [],
   "source": []
  },
  {
   "cell_type": "code",
   "execution_count": 67,
   "metadata": {},
   "outputs": [],
   "source": [
    "import requests\n",
    "from urllib.parse import urlparse, urlunparse\n",
    "\n",
    "import numpy as np\n",
    "import numpy_financial as npf\n",
    "\n",
    "import pandas as pd\n",
    "\n",
    "import seaborn as sns\n",
    "import matplotlib.pyplot as plt\n",
    "\n",
    "import yfinance as yf\n",
    "\n",
    "from datetime import date\n",
    "\n",
    "from itertools import accumulate\n",
    "import operator\n",
    "\n",
    "\n",
    "#financialmodellingprep.com API key\n",
    "apikey = '6d5a44e82d49d8446e8db1914d12e2b4'\n",
    "simfinkey = 'S54dNEScw70KAegQwNs46skHPfblWSoB'"
   ]
  },
  {
   "cell_type": "code",
   "execution_count": 2,
   "metadata": {},
   "outputs": [],
   "source": [
    "valuation_date = date.fromisoformat('2020-06-01')\n",
    "years_to_project = 5\n",
    "\n",
    "monte_carlo_iterations = 1000\n",
    "\n",
    "projected_years = [y for y in range(valuation_date.year,valuation_date.year+years_to_project)]\n",
    "# Instead of years the dates should be 12 months from valuation date, and then 12 months later, etc."
   ]
  },
  {
   "cell_type": "markdown",
   "metadata": {},
   "source": [
    "## S&P500 Valuation\n",
    "21 February 2021"
   ]
  },
  {
   "cell_type": "markdown",
   "metadata": {
    "cell_style": "split"
   },
   "source": [
    "#### Framework and key questions to answer\n",
    "<img src=\"img/IndexValueFramework.jpg\" width=360 align=\"left\"/>"
   ]
  },
  {
   "cell_type": "markdown",
   "metadata": {
    "cell_style": "split"
   },
   "source": [
    "#### Story\n",
    "\n",
    "---\n",
    "\n",
    "**1. Earnings Growth**\n",
    "\n",
    "**2. Cash Return**\n",
    "\n",
    "**3. Risk Premium**\n",
    "\n",
    "**4. Risk Free Rate**"
   ]
  },
  {
   "cell_type": "code",
   "execution_count": 3,
   "metadata": {},
   "outputs": [],
   "source": [
    "hist_df = pd.read_excel('data/histimplERP.xls',sheet_name='Historical Impl Premiums',header=6,skipfooter=7)\n",
    "hist_df.drop(hist_df.tail(1).index,inplace=True) #Temporary fix because using data file from 2021 and replicating valuation as if it was 2020"
   ]
  },
  {
   "cell_type": "code",
   "execution_count": 4,
   "metadata": {},
   "outputs": [],
   "source": [
    "inputs_df = pd.DataFrame()\n",
    "inputs_df['year'] = hist_df['Year']\n",
    "inputs_df['ERP'] = hist_df['Implied Premium (FCFE)']\n",
    "inputs_df['earnings'] = hist_df['Earnings*']\n",
    "inputs_df['RFR'] = hist_df['T.Bond Rate']\n",
    "inputs_df['div&bb'] = hist_df['Dividends + Buybacks']\n",
    "\n",
    "# Keep adding historical values for all the other elements of the valuation"
   ]
  },
  {
   "cell_type": "markdown",
   "metadata": {},
   "source": [
    "### Present the historical and projected for each input with the rational for projection"
   ]
  },
  {
   "cell_type": "code",
   "execution_count": null,
   "metadata": {},
   "outputs": [],
   "source": []
  },
  {
   "cell_type": "code",
   "execution_count": 23,
   "metadata": {},
   "outputs": [],
   "source": [
    "hist_df['% earnings returned'] = hist_df['Dividends + Buybacks']/hist_df['Earnings*']"
   ]
  },
  {
   "cell_type": "code",
   "execution_count": 39,
   "metadata": {},
   "outputs": [
    {
     "data": {
      "text/plain": [
       "<AxesSubplot:xlabel='Change in Earnings', ylabel='Count'>"
      ]
     },
     "execution_count": 39,
     "metadata": {},
     "output_type": "execute_result"
    },
    {
     "data": {
      "image/png": "[encoded data removed]",
      "text/plain": [
       "<Figure size 432x288 with 1 Axes>"
      ]
     },
     "metadata": {
      "needs_background": "light"
     },
     "output_type": "display_data"
    }
   ],
   "source": [
    "hist_df['Change in Earnings'].describe()\n",
    "sns.histplot(data=hist_df, x=\"Change in Earnings\",bins=6)"
   ]
  },
  {
   "cell_type": "code",
   "execution_count": 47,
   "metadata": {},
   "outputs": [
    {
     "data": {
      "text/plain": [
       "count    19.000000\n",
       "mean      0.070416\n",
       "std       0.164165\n",
       "min      -0.307857\n",
       "25%      -0.017581\n",
       "50%       0.094445\n",
       "75%       0.172562\n",
       "max       0.402515\n",
       "Name: Change in Earnings, dtype: float64"
      ]
     },
     "execution_count": 47,
     "metadata": {},
     "output_type": "execute_result"
    }
   ],
   "source": [
    "hist_df[hist_df['Year']>2000]['Change in Earnings'].describe()"
   ]
  },
  {
   "cell_type": "markdown",
   "metadata": {},
   "source": [
    "### Calculations"
   ]
  },
  {
   "cell_type": "code",
   "execution_count": 77,
   "metadata": {},
   "outputs": [],
   "source": [
    "# Original Damodaran estimates\n",
    "#   future_earnings = np.array([120.0,150.0,160.83,172.45,184.91])\n",
    "#   cash_returned_percent = np.array([0.75591667, 0.80673333, 0.85761363, 0.90843723, 0.95922341])\n",
    "#   cash_returned = np.array([90.71,121.01,137.93,156.66,177.37])\n",
    "#   equity_risk_premium = 5.58/100\n",
    "\n",
    "\n",
    "outputs_df = pd.DataFrame()\n",
    "\n",
    "# Generate all the rndom variables at once to then use inside the iteration\n",
    "earnings_first_year = 120.0\n",
    "earnings_growth = np.array([0.25,0.0722,0.0722,0.0722])\n",
    "\n",
    "ERP_random = np.random.uniform(5.02/100,6.14/100,monte_carlo_iterations)\n",
    "percent_returned_first = 0.75  # INTRODUCE RANDOMNESS\n",
    "percent_returned_last = 0.82   # INTRODUCE RANDOMNESS\n",
    "\n",
    "\n",
    "# What is below would be one iteration\n",
    "for i in range(0,monte_carlo_iterations):\n",
    "    # Estimates for all inputs - Need to intriduce randomness here -\n",
    "\n",
    "    growth_factor = [1] + list(accumulate(earnings_growth+1, operator.mul))\n",
    "    future_earnings = np.repeat(earnings_first_year, years_to_project) * growth_factor\n",
    "\n",
    "    percent_returned = np.linspace (start=percent_returned_first,stop=percent_returned_last,num=years_to_project)\n",
    "    cash_returned = future_earnings * percent_returned \n",
    "    equity_risk_premium = ERP_random[i]\n",
    "    risk_free_rate = 0.66/100 \n",
    "\n",
    "    discount_rate = risk_free_rate + 1 * equity_risk_premium\n",
    "    long_term_growth = risk_free_rate\n",
    "\n",
    "    #Calculate intrinsic value of the index given estimates for input\n",
    "    cash_flows = np.concatenate((np.array([0]),cash_returned)) # Add a \"today\" cash flow of 0 to make first cash flow in year 1\n",
    "    cash_terminal = cash_returned[-1]*(1+long_term_growth)/(discount_rate - long_term_growth)\n",
    "    cash_flows[-1] += cash_terminal\n",
    "\n",
    "    intrinsic_index_level = npf.npv(discount_rate,cash_flows)\n",
    "    d = [{'S&P500': intrinsic_index_level}]\n",
    "    outputs_df = outputs_df.append(d,ignore_index=True,sort=False)\n",
    "\n",
    "    # Create rows for projection\n",
    "    d = {'year': projected_years, \n",
    "         'earnings': future_earnings,\n",
    "         'div&bb': cash_returned,\n",
    "         'RFR': [risk_free_rate]*years_to_project,\n",
    "         'ERP': [equity_risk_premium]*years_to_project,\n",
    "        }\n",
    "    temp_df = pd.DataFrame(d)\n",
    "    \n",
    "    # Append new projection to output_df\n",
    "    inputs_df = pd.concat([inputs_df,temp_df])"
   ]
  },
  {
   "cell_type": "code",
   "execution_count": 78,
   "metadata": {},
   "outputs": [
    {
     "data": {
      "text/html": [
       "<div>\n",
       "<style scoped>\n",
       "    .dataframe tbody tr th:only-of-type {\n",
       "        vertical-align: middle;\n",
       "    }\n",
       "\n",
       "    .dataframe tbody tr th {\n",
       "        vertical-align: top;\n",
       "    }\n",
       "\n",
       "    .dataframe thead th {\n",
       "        text-align: right;\n",
       "    }\n",
       "</style>\n",
       "<table border=\"1\" class=\"dataframe\">\n",
       "  <thead>\n",
       "    <tr style=\"text-align: right;\">\n",
       "      <th></th>\n",
       "      <th>year</th>\n",
       "      <th>ERP</th>\n",
       "      <th>earnings</th>\n",
       "      <th>RFR</th>\n",
       "      <th>div&amp;bb</th>\n",
       "    </tr>\n",
       "  </thead>\n",
       "  <tbody>\n",
       "    <tr>\n",
       "      <th>0</th>\n",
       "      <td>1960</td>\n",
       "      <td>NaN</td>\n",
       "      <td>3.103074</td>\n",
       "      <td>0.0276</td>\n",
       "      <td>NaN</td>\n",
       "    </tr>\n",
       "    <tr>\n",
       "      <th>1</th>\n",
       "      <td>1961</td>\n",
       "      <td>0.029200</td>\n",
       "      <td>3.370005</td>\n",
       "      <td>0.0235</td>\n",
       "      <td>NaN</td>\n",
       "    </tr>\n",
       "    <tr>\n",
       "      <th>2</th>\n",
       "      <td>1962</td>\n",
       "      <td>0.035600</td>\n",
       "      <td>3.666110</td>\n",
       "      <td>0.0385</td>\n",
       "      <td>NaN</td>\n",
       "    </tr>\n",
       "    <tr>\n",
       "      <th>3</th>\n",
       "      <td>1963</td>\n",
       "      <td>0.033800</td>\n",
       "      <td>4.133602</td>\n",
       "      <td>0.0414</td>\n",
       "      <td>NaN</td>\n",
       "    </tr>\n",
       "    <tr>\n",
       "      <th>4</th>\n",
       "      <td>1964</td>\n",
       "      <td>0.033100</td>\n",
       "      <td>4.762950</td>\n",
       "      <td>0.0421</td>\n",
       "      <td>NaN</td>\n",
       "    </tr>\n",
       "    <tr>\n",
       "      <th>...</th>\n",
       "      <td>...</td>\n",
       "      <td>...</td>\n",
       "      <td>...</td>\n",
       "      <td>...</td>\n",
       "      <td>...</td>\n",
       "    </tr>\n",
       "    <tr>\n",
       "      <th>0</th>\n",
       "      <td>2020</td>\n",
       "      <td>0.059883</td>\n",
       "      <td>120.000000</td>\n",
       "      <td>0.0066</td>\n",
       "      <td>90.000000</td>\n",
       "    </tr>\n",
       "    <tr>\n",
       "      <th>1</th>\n",
       "      <td>2021</td>\n",
       "      <td>0.059883</td>\n",
       "      <td>150.000000</td>\n",
       "      <td>0.0066</td>\n",
       "      <td>115.125000</td>\n",
       "    </tr>\n",
       "    <tr>\n",
       "      <th>2</th>\n",
       "      <td>2022</td>\n",
       "      <td>0.059883</td>\n",
       "      <td>160.830000</td>\n",
       "      <td>0.0066</td>\n",
       "      <td>126.251550</td>\n",
       "    </tr>\n",
       "    <tr>\n",
       "      <th>3</th>\n",
       "      <td>2023</td>\n",
       "      <td>0.059883</td>\n",
       "      <td>172.441926</td>\n",
       "      <td>0.0066</td>\n",
       "      <td>138.384646</td>\n",
       "    </tr>\n",
       "    <tr>\n",
       "      <th>4</th>\n",
       "      <td>2024</td>\n",
       "      <td>0.059883</td>\n",
       "      <td>184.892233</td>\n",
       "      <td>0.0066</td>\n",
       "      <td>151.611631</td>\n",
       "    </tr>\n",
       "  </tbody>\n",
       "</table>\n",
       "<p>30060 rows × 5 columns</p>\n",
       "</div>"
      ],
      "text/plain": [
       "    year       ERP    earnings     RFR      div&bb\n",
       "0   1960       NaN    3.103074  0.0276         NaN\n",
       "1   1961  0.029200    3.370005  0.0235         NaN\n",
       "2   1962  0.035600    3.666110  0.0385         NaN\n",
       "3   1963  0.033800    4.133602  0.0414         NaN\n",
       "4   1964  0.033100    4.762950  0.0421         NaN\n",
       "..   ...       ...         ...     ...         ...\n",
       "0   2020  0.059883  120.000000  0.0066   90.000000\n",
       "1   2021  0.059883  150.000000  0.0066  115.125000\n",
       "2   2022  0.059883  160.830000  0.0066  126.251550\n",
       "3   2023  0.059883  172.441926  0.0066  138.384646\n",
       "4   2024  0.059883  184.892233  0.0066  151.611631\n",
       "\n",
       "[30060 rows x 5 columns]"
      ]
     },
     "execution_count": 78,
     "metadata": {},
     "output_type": "execute_result"
    }
   ],
   "source": [
    "inputs_df"
   ]
  },
  {
   "cell_type": "code",
   "execution_count": null,
   "metadata": {},
   "outputs": [],
   "source": []
  },
  {
   "cell_type": "markdown",
   "metadata": {},
   "source": [
    "### OUT"
   ]
  },
  {
   "cell_type": "code",
   "execution_count": 29,
   "metadata": {},
   "outputs": [
    {
     "data": {
      "text/plain": [
       "<AxesSubplot:xlabel='year', ylabel='ERP'>"
      ]
     },
     "execution_count": 29,
     "metadata": {},
     "output_type": "execute_result"
    },
    {
     "data": {
      "image/png": "[encoded data removed]",
      "text/plain": [
       "<Figure size 432x288 with 1 Axes>"
      ]
     },
     "metadata": {
      "needs_background": "light"
     },
     "output_type": "display_data"
    }
   ],
   "source": [
    "sns.lineplot(x=\"year\", y=\"ERP\",data=inputs_df,ci=\"sd\")"
   ]
  },
  {
   "cell_type": "code",
   "execution_count": 20,
   "metadata": {},
   "outputs": [
    {
     "data": {
      "text/plain": [
       "<AxesSubplot:ylabel='S&P500'>"
      ]
     },
     "execution_count": 20,
     "metadata": {},
     "output_type": "execute_result"
    },
    {
     "data": {
      "image/png": "[encoded data removed]",
      "text/plain": [
       "<Figure size 432x288 with 1 Axes>"
      ]
     },
     "metadata": {
      "needs_background": "light"
     },
     "output_type": "display_data"
    }
   ],
   "source": [
    "sns.boxplot(y=\"S&P500\",\n",
    "            data=outputs_df)"
   ]
  },
  {
   "cell_type": "code",
   "execution_count": 32,
   "metadata": {},
   "outputs": [
    {
     "data": {
      "text/plain": [
       "<AxesSubplot:xlabel='S&P500', ylabel='Count'>"
      ]
     },
     "execution_count": 32,
     "metadata": {},
     "output_type": "execute_result"
    },
    {
     "data": {
      "image/png": "[encoded data removed]",
      "text/plain": [
       "<Figure size 432x288 with 1 Axes>"
      ]
     },
     "metadata": {
      "needs_background": "light"
     },
     "output_type": "display_data"
    }
   ],
   "source": [
    "sns.histplot(data=outputs_df, x=\"S&P500\", bins=100)"
   ]
  },
  {
   "cell_type": "code",
   "execution_count": 18,
   "metadata": {},
   "outputs": [
    {
     "data": {
      "text/plain": [
       "0           NaN\n",
       "1           NaN\n",
       "2           NaN\n",
       "3           NaN\n",
       "4           NaN\n",
       "        ...    \n",
       "0     90.000000\n",
       "1    115.125000\n",
       "2    126.251550\n",
       "3    138.391125\n",
       "4    151.626200\n",
       "Name: div&bb, Length: 5060, dtype: float64"
      ]
     },
     "execution_count": 18,
     "metadata": {},
     "output_type": "execute_result"
    }
   ],
   "source": [
    "inputs_df['div&bb']\n",
    "#pd.Series(cash_returned)"
   ]
  }
 ],
 "metadata": {
  "hide_input": false,
  "kernelspec": {
   "display_name": "Python 3",
   "language": "python",
   "name": "python3"
  },
  "language_info": {
   "codemirror_mode": {
    "name": "ipython",
    "version": 3
   },
   "file_extension": ".py",
   "mimetype": "text/x-python",
   "name": "python",
   "nbconvert_exporter": "python",
   "pygments_lexer": "ipython3",
   "version": "3.7.3"
  }
 },
 "nbformat": 4,
 "nbformat_minor": 4
}
